{
  "nbformat": 4,
  "nbformat_minor": 0,
  "metadata": {
    "colab": {
      "provenance": [],
      "authorship_tag": "ABX9TyNPsH8RWEmTStMJw+vjkg6k",
      "include_colab_link": true
    },
    "kernelspec": {
      "name": "python3",
      "display_name": "Python 3"
    },
    "language_info": {
      "name": "python"
    }
  },
  "cells": [
    {
      "cell_type": "markdown",
      "metadata": {
        "id": "view-in-github",
        "colab_type": "text"
      },
      "source": [
        "<a href=\"https://colab.research.google.com/github/Nyamu007/SCRAPING/blob/main/webscraping_beautifulsoup.ipynb\" target=\"_parent\"><img src=\"https://colab.research.google.com/assets/colab-badge.svg\" alt=\"Open In Colab\"/></a>"
      ]
    },
    {
      "cell_type": "code",
      "execution_count": 1,
      "metadata": {
        "colab": {
          "base_uri": "https://localhost:8080/"
        },
        "id": "FzADGwyogaXO",
        "outputId": "f5d887ff-06ca-4e21-baf3-2f2a6dd55ee6"
      },
      "outputs": [
        {
          "output_type": "stream",
          "name": "stdout",
          "text": [
            "Requirement already satisfied: beautifulsoup4 in /usr/local/lib/python3.10/dist-packages (4.12.3)\n",
            "Requirement already satisfied: soupsieve>1.2 in /usr/local/lib/python3.10/dist-packages (from beautifulsoup4) (2.5)\n"
          ]
        }
      ],
      "source": [
        "pip install beautifulsoup4"
      ]
    },
    {
      "cell_type": "code",
      "source": [
        "pip install lxml"
      ],
      "metadata": {
        "colab": {
          "base_uri": "https://localhost:8080/"
        },
        "id": "vl0zXS5V6DeT",
        "outputId": "95023bf9-1d5e-4673-8724-3f53854b42ad"
      },
      "execution_count": 2,
      "outputs": [
        {
          "output_type": "stream",
          "name": "stdout",
          "text": [
            "Requirement already satisfied: lxml in /usr/local/lib/python3.10/dist-packages (4.9.4)\n"
          ]
        }
      ]
    },
    {
      "cell_type": "code",
      "source": [
        "# Importing required libraries\n",
        "from bs4 import BeautifulSoup\n",
        "import requests\n",
        "import csv"
      ],
      "metadata": {
        "id": "fKEqIb0j6DhT"
      },
      "execution_count": 3,
      "outputs": []
    },
    {
      "cell_type": "code",
      "source": [
        "try:\n",
        "    # Url of the website\n",
        "    url = 'https://www.amazon.com/iphone/s?k=iphone'\n",
        "    # headers\n",
        "    headers = {'User-Agent':'Mozilla/5.0 (Windows NT 10.0; Win64; x64) AppleWebKit/537.36 (KHTML, like Gecko) Chrome/58.0.3029.110 Safari/537.3'}\n",
        "    # get request\n",
        "    html = requests.get(url,headers=headers).text\n",
        "    # parsing with beautifulSoup\n",
        "    bs = BeautifulSoup(html,'lxml')\n",
        "\n",
        "    # Extracing cell phone names, their prices and no of reviews\n",
        "    phone_name = [name.text for name in bs.find_all('span',class_='a-size-medium a-color-base a-text-normal')]\n",
        "    prices = [price.text for price in bs.find_all('span',class_='a-price-whole')]\n",
        "    reviews = [review.text for review in bs.find_all('span',class_='a-size-base s-underline-text')]\n",
        "\n",
        "    # priting phone names , prices and no of reviews\n",
        "    print('****** Phone Name ******')\n",
        "    print(phone_name)\n",
        "    print('****** Phone Price ******')\n",
        "    print(prices)\n",
        "    print('****** No of Reviews ******')\n",
        "    print(reviews)\n",
        "\n",
        "    # Exporting scraped data into csv\n",
        "    with open('CellPhones.csv', 'w') as file:\n",
        "        writer = csv.writer(file)\n",
        "        writer.writerow(['Phone Name', 'Prices','No of Reviews'])\n",
        "        for i in range(len(phone_name)):\n",
        "            writer.writerow([phone_name[i], prices[i],reviews[i]])\n",
        "\n",
        "except Exception as e:\n",
        "    print(e)"
      ],
      "metadata": {
        "colab": {
          "base_uri": "https://localhost:8080/"
        },
        "id": "l31z7Qkq6DkV",
        "outputId": "5f060fe1-09be-419d-ad1f-95a10c70f788"
      },
      "execution_count": 5,
      "outputs": [
        {
          "output_type": "stream",
          "name": "stdout",
          "text": [
            "****** Phone Name ******\n",
            "[]\n",
            "****** Phone Price ******\n",
            "[]\n",
            "****** No of Reviews ******\n",
            "[]\n"
          ]
        }
      ]
    },
    {
      "cell_type": "code",
      "source": [],
      "metadata": {
        "id": "YcgrYXnr6Dm6"
      },
      "execution_count": null,
      "outputs": []
    },
    {
      "cell_type": "code",
      "source": [],
      "metadata": {
        "id": "yT56deUC6DpI"
      },
      "execution_count": null,
      "outputs": []
    },
    {
      "cell_type": "code",
      "source": [],
      "metadata": {
        "id": "CoBo4oFw6Dv_"
      },
      "execution_count": null,
      "outputs": []
    },
    {
      "cell_type": "code",
      "source": [],
      "metadata": {
        "id": "8pbnzfHV6DzD"
      },
      "execution_count": null,
      "outputs": []
    }
  ]
}